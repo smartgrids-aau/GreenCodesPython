{
  "nbformat": 4,
  "nbformat_minor": 0,
  "metadata": {
    "colab": {
      "provenance": [],
      "authorship_tag": "ABX9TyO9nuBFRYIlBpM9TDUhir6n",
      "include_colab_link": true
    },
    "kernelspec": {
      "name": "python3",
      "display_name": "Python 3"
    },
    "language_info": {
      "name": "python"
    }
  },
  "cells": [
    {
      "cell_type": "markdown",
      "metadata": {
        "id": "view-in-github",
        "colab_type": "text"
      },
      "source": [
        "<a href=\"https://colab.research.google.com/github/smartgrids-aau/GreenCodesPython/blob/main/Exemple_2_2.ipynb\" target=\"_parent\"><img src=\"https://colab.research.google.com/assets/colab-badge.svg\" alt=\"Open In Colab\"/></a>"
      ]
    },
    {
      "cell_type": "code",
      "execution_count": 12,
      "metadata": {
        "id": "qgNjS-Q2YsHU"
      },
      "outputs": [],
      "source": [
        "\n",
        "#Example 2.2\n",
        "import numpy as np\n",
        "import pandas as pd\n",
        "from google.colab import files\n",
        "\n",
        "\n",
        "\n",
        "\n",
        "file_path = '/content/PV Modeling Book Data Source.xls'\n",
        "sheet_name = 'Source 2'\n",
        "\n",
        "\n",
        "df = pd.read_excel(file_path, sheet_name=sheetName, usecols=\"A:C\", skiprows=1)\n",
        "\n",
        "G = df.iloc[:, 0].values  # Global solar radiation\n",
        "Temp = df.iloc[:, 1].values  # Ambient temperature\n",
        "I_PV = df.iloc[:, 2].values  # PV actual current\n",
        "\n",
        "# ---------------Modeling of global solar energy--------\n",
        "N_Liner = 1  # Order of the function\n",
        "mask = ~np.isnan(G) & ~np.isnan(I_PV) & ~np.isinf(G) & ~np.isinf(I_PV)\n",
        "G_clean = G[mask]\n",
        "I_PV_clean = I_PV[mask]\n",
        "P_Liner = np.polyfit(G_clean, I_PV_clean, N_Liner)\n",
        "\n",
        "\n",
        "X_Liner = I_PV\n",
        "Y_Liner = np.zeros_like(X_Liner)\n",
        "\n",
        "for i in range(1, N_Liner + 2):\n",
        "    Y_Liner += P_Liner[i - 1] * X_Liner**(N_Liner - i + 1)"
      ]
    }
  ]
}
{
  "nbformat": 4,
  "nbformat_minor": 0,
  "metadata": {
    "colab": {
      "provenance": [],
      "authorship_tag": "ABX9TyO2I8ZmI/RNJL5rhkC0zuwR",
      "include_colab_link": true
    },
    "kernelspec": {
      "name": "python3",
      "display_name": "Python 3"
    },
    "language_info": {
      "name": "python"
    }
  },
  "cells": [
    {
      "cell_type": "markdown",
      "metadata": {
        "id": "view-in-github",
        "colab_type": "text"
      },
      "source": [
        "<a href=\"https://colab.research.google.com/github/smartgrids-aau/GreenCodesPython/blob/main/Exemple_1_1.ipynb\" target=\"_parent\"><img src=\"https://colab.research.google.com/assets/colab-badge.svg\" alt=\"Open In Colab\"/></a>"
      ]
    },
    {
      "cell_type": "code",
      "execution_count": 1,
      "metadata": {
        "colab": {
          "base_uri": "https://localhost:8080/"
        },
        "id": "qgNjS-Q2YsHU",
        "outputId": "77ce79a8-a2d5-4e1f-82e2-2a89819ed0e0"
      },
      "outputs": [
        {
          "output_type": "stream",
          "name": "stdout",
          "text": [
            "Altitude angle (Alpha): 70.03 degrees\n",
            "Azimuth angle (Theta): -3.31 degrees\n"
          ]
        }
      ],
      "source": [
        "#Example 1.1\n",
        "\n",
        "import math\n",
        "import numpy as np\n",
        "\n",
        "# Location Kuala Lumpur, Malaysia, L = (3.12), LOD = (101.7)\n",
        "L = 3.12\n",
        "LOD = 101.7\n",
        "N = 183\n",
        "T_GMT = 8\n",
        "LMT_minutes = 792\n",
        "\n",
        "# Angle of declination\n",
        "Ds = 23.45 * math.sin((360 * (N - 81) / 365) * (math.pi / 180))\n",
        "\n",
        "# Equation of Time\n",
        "B = (360 * (N - 81)) / 364\n",
        "EoT = (9.87 * math.sin(2 * B * math.pi / 180)) - (7.53 * math.cos(B * math.pi / 180)) - (1.5 * math.sin(B * math.pi / 180))\n",
        "\n",
        "\n",
        "Lzt = 15 * T_GMT\n",
        "\n",
        "\n",
        "if LOD >= 0:\n",
        "    Ts_correction = (-4 * (Lzt - LOD)) + EoT\n",
        "else:\n",
        "    Ts_correction = (4 * (Lzt - LOD)) + EoT\n",
        "\n",
        "# Solar time\n",
        "Ts = LMT_minutes + Ts_correction\n",
        "\n",
        "\n",
        "Hs = (15 * (Ts - (12 * 60))) / 60\n",
        "\n",
        "# Altitude angle calculation\n",
        "sin_Alpha = (math.sin(L * math.pi / 180) * math.sin(Ds * math.pi / 180)) + (math.cos(L * math.pi / 180) * math.cos(Ds * math.pi / 180) * math.cos(Hs * math.pi / 180))\n",
        "Alpha = math.degrees(math.asin(sin_Alpha))  # altitude angle\n",
        "\n",
        "# Azimuth angle calculation\n",
        "Sin_Theta = (math.cos(Ds * math.pi / 180) * math.sin(Hs * math.pi / 180)) / math.cos(Alpha * math.pi / 180)\n",
        "Theta = math.degrees(math.asin(Sin_Theta))  # Azimuth angle\n",
        "\n",
        "# Print results\n",
        "print(f\"Altitude angle (Alpha): {Alpha:.2f} degrees\")\n",
        "print(f\"Azimuth angle (Theta): {Theta:.2f} degrees\")\n"
      ]
    }
  ]
}
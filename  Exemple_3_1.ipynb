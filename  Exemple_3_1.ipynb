{
  "nbformat": 4,
  "nbformat_minor": 0,
  "metadata": {
    "colab": {
      "provenance": [],
      "authorship_tag": "ABX9TyPJo3rEFsrDas4gaj0mj/dE",
      "include_colab_link": true
    },
    "kernelspec": {
      "name": "python3",
      "display_name": "Python 3"
    },
    "language_info": {
      "name": "python"
    }
  },
  "cells": [
    {
      "cell_type": "markdown",
      "metadata": {
        "id": "view-in-github",
        "colab_type": "text"
      },
      "source": [
        "<a href=\"https://colab.research.google.com/github/smartgrids-aau/GreenCodesPython/blob/main/%20Exemple_3_1.ipynb\" target=\"_parent\"><img src=\"https://colab.research.google.com/assets/colab-badge.svg\" alt=\"Open In Colab\"/></a>"
      ]
    },
    {
      "cell_type": "code",
      "source": [
        "# Example 3.1\n",
        "import numpy as np\n",
        "import matplotlib.pyplot as plt\n",
        "from scipy.interpolate import interp1d\n",
        "\n",
        "\n",
        "def PV_model(Va, G, TaC):\n",
        "    Iph = G * 5\n",
        "    Io = 1e-10\n",
        "    n = 1.2\n",
        "    Vt = 0.025\n",
        "\n",
        "    # Prevent exponential overflow\n",
        "    exponent = np.clip(Va / (n * Vt), -700, 700)\n",
        "    return Iph - Io * (np.exp(exponent) - 1)\n",
        "\n",
        "\n",
        "TaC = 25            # Cell temperature (°C)\n",
        "C = 0.5             # Step size\n",
        "Suns_val = 0.028    # (1 G = 1000 W/m^2)\n",
        "Va = 31             # PV voltage\n",
        "\n",
        "Ia = PV_model(Va, Suns_val, TaC)\n",
        "Pa = Ia * Va        # PV output power\n",
        "Vref_new = Va + C   # New reference voltage\n",
        "\n",
        "Va_array = []\n",
        "Pa_array = []\n",
        "\n",
        "Suns_data = np.array([\n",
        "    [0, 0.1], [1, 0.2], [2, 0.3], [3, 0.3], [4, 0.5],\n",
        "    [5, 0.6], [6, 0.7], [7, 0.8], [8, 0.9], [9, 1.0],\n",
        "    [10, 1.1], [11, 1.2], [12, 1.3], [13, 1.4]\n",
        "])\n",
        "\n",
        "x = Suns_data[:, 0]\n",
        "y = Suns_data[:, 1]\n",
        "xi = np.arange(1, 201)\n",
        "interp_func = interp1d(x, y, kind='cubic', fill_value='extrapolate')\n",
        "yi = interp_func(xi)\n",
        "\n",
        "for i in range(14):\n",
        "    Suns = yi[i]\n",
        "    Va_new = Vref_new\n",
        "    Ia_new = PV_model(Va, Suns, TaC)\n",
        "    Pa_new = Va_new * Ia_new\n",
        "    deltaPa = Pa_new - Pa\n",
        "\n",
        "    if deltaPa > 0:\n",
        "        if Va_new > Va:\n",
        "            Vref_new = Va_new + C\n",
        "        else:\n",
        "            Vref_new = Va_new - C\n",
        "    elif deltaPa < 0:\n",
        "        if Va_new > Va:\n",
        "            Vref_new = Va_new - C\n",
        "        else:\n",
        "            Vref_new = Va_new + C\n",
        "    else:\n",
        "        V_ref = Va_new\n",
        "\n",
        "    Va = Va_new\n",
        "    Pa = Pa_new\n",
        "\n",
        "    Va_array.append(Va)\n",
        "    Pa_array.append(Pa)\n"
      ],
      "metadata": {
        "id": "qVR6UnuVsdu5"
      },
      "execution_count": 7,
      "outputs": []
    }
  ]
}
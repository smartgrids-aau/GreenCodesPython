{
  "nbformat": 4,
  "nbformat_minor": 0,
  "metadata": {
    "colab": {
      "provenance": [],
      "authorship_tag": "ABX9TyNgCpkxEYioYO3UEj1IbUlS",
      "include_colab_link": true
    },
    "kernelspec": {
      "name": "python3",
      "display_name": "Python 3"
    },
    "language_info": {
      "name": "python"
    }
  },
  "cells": [
    {
      "cell_type": "markdown",
      "metadata": {
        "id": "view-in-github",
        "colab_type": "text"
      },
      "source": [
        "<a href=\"https://colab.research.google.com/github/smartgrids-aau/GreenCodesPython/blob/main/Exemple_4_2.ipynb\" target=\"_parent\"><img src=\"https://colab.research.google.com/assets/colab-badge.svg\" alt=\"Open In Colab\"/></a>"
      ]
    },
    {
      "cell_type": "code",
      "source": [
        "# Exercise 4.2\n",
        "\n",
        "import numpy as np\n",
        "\n",
        "# Sample data (replace with real values)\n",
        "E_net = np.random.uniform(-2000, 2000, size=8760)  # Net energy from PV (Wh)\n",
        "L = np.random.uniform(1000, 2000, size=8760)       # Load profile (Wh)\n",
        "SOCmax = 1400                                      # Max battery SOC (Wh)\n",
        "SOCmin = SOCmax * (1 - 0.8)                        # SOCmin based on DOD = 0.8\n",
        "E_Capacity = 1500                                  # Diesel generator capacity (Wh/hour)\n",
        "\n",
        "SOCf = []\n",
        "Deff = []\n",
        "Dumpf = []\n",
        "E_Geni = []\n",
        "\n",
        "SOCi = SOCmax\n",
        "\n",
        "for i in range(len(E_net)):\n",
        "    SOC = E_net[i] + SOCi\n",
        "\n",
        "    if SOC > SOCmax:\n",
        "        Dumpi = SOC - SOCmax\n",
        "        Defi = 0\n",
        "        SOCi = SOCmax\n",
        "        E_Gen = 0\n",
        "\n",
        "    elif SOC < SOCmin:\n",
        "        Old_Defi = (SOC - SOCmin) + E_Capacity\n",
        "\n",
        "        if Old_Defi >= 0:\n",
        "            SOCi = SOCmin + Old_Defi\n",
        "\n",
        "            if SOCi <= SOCmax:\n",
        "                Defi = 0\n",
        "                Dumpi = 0\n",
        "                E_Gen = abs(Old_Defi) + (SOCi - SOCmin)\n",
        "            else:\n",
        "                Defi = 0\n",
        "                Dumpi = 0\n",
        "                E_Gen = abs(Old_Defi) + (SOCi - SOCmin) - (SOCi - SOCmax)\n",
        "                SOCi = SOCmax\n",
        "        else:\n",
        "            SOCi = SOCmin\n",
        "            Defi = abs(Old_Defi)\n",
        "            Dumpi = 0\n",
        "            E_Gen = E_Capacity\n",
        "\n",
        "    else:\n",
        "        SOCi = SOC + E_Capacity\n",
        "        if SOCi <= SOCmax:\n",
        "            Defi = 0\n",
        "            Dumpi = 0\n",
        "            E_Gen = E_Capacity\n",
        "        else:\n",
        "            Defi = 0\n",
        "            Dumpi = 0\n",
        "            E_Gen = E_Capacity - (SOCi - SOCmax)\n",
        "            SOCi = SOCmax\n",
        "\n",
        "    SOCf.append(SOCi)\n",
        "    Deff.append(Defi)\n",
        "    Dumpf.append(Dumpi)\n",
        "    E_Geni.append(E_Gen)\n",
        "\n",
        "SOCf = np.array(SOCf)\n",
        "Deff = np.array(Deff)\n",
        "Dumpf = np.array(Dumpf)\n",
        "E_Geni = np.array(E_Geni)\n",
        "\n",
        "SOC_per = SOCf / SOCmax\n",
        "LLP_calculated = abs(np.sum(Deff)) / np.sum(L)\n",
        "\n",
        "print(\"Loss of Load Probability (LLP):\", LLP_calculated)\n"
      ],
      "metadata": {
        "colab": {
          "base_uri": "https://localhost:8080/"
        },
        "id": "4aRIyC5jyT4b",
        "outputId": "09c50821-5b5b-4773-8476-55d63b9db73c"
      },
      "execution_count": 10,
      "outputs": [
        {
          "output_type": "stream",
          "name": "stdout",
          "text": [
            "Loss of Load Probability (LLP): 9.76210952818445e-06\n"
          ]
        }
      ]
    }
  ]
}
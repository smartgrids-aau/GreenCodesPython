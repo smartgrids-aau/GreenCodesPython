{
  "nbformat": 4,
  "nbformat_minor": 0,
  "metadata": {
    "colab": {
      "provenance": [],
      "authorship_tag": "ABX9TyMkL/k5QRRfb6FSuZll8t8i",
      "include_colab_link": true
    },
    "kernelspec": {
      "name": "python3",
      "display_name": "Python 3"
    },
    "language_info": {
      "name": "python"
    }
  },
  "cells": [
    {
      "cell_type": "markdown",
      "metadata": {
        "id": "view-in-github",
        "colab_type": "text"
      },
      "source": [
        "<a href=\"https://colab.research.google.com/github/smartgrids-aau/GreenCodesPython/blob/main/Exemple_4_1.ipynb\" target=\"_parent\"><img src=\"https://colab.research.google.com/assets/colab-badge.svg\" alt=\"Open In Colab\"/></a>"
      ]
    },
    {
      "cell_type": "code",
      "source": [
        "# Example 4.1\n",
        "\n",
        "import numpy as np\n",
        "import pandas as pd\n",
        "\n",
        "\n",
        "file_name = '/content/PV Modeling Book Data Source.xls'\n",
        "sheet_name = 'Source 7'\n",
        "\n",
        "\n",
        "G = pd.read_excel(file_name, sheet_name=sheet_name, usecols=\"A\", nrows=8761)\n",
        "T = pd.read_excel(file_name, sheet_name=sheet_name, usecols=\"B\", nrows=8761)\n",
        "L = pd.read_excel(file_name, sheet_name=sheet_name, usecols=\"D\", nrows=8761)\n",
        "\n",
        "\n",
        "G = pd.to_numeric(G.squeeze(), errors='coerce')\n",
        "T = pd.to_numeric(T.squeeze(), errors='coerce')\n",
        "L = pd.to_numeric(L.squeeze(), errors='coerce')\n",
        "\n",
        "\n",
        "\n",
        "PV_Wp = 2500\n",
        "Battery_SOCmax = 1400\n",
        "PV_eff = 0.16\n",
        "V_B = 12\n",
        "Inv_RP = 2500\n",
        "DOD = 0.8\n",
        "Charge_eff = 0.8\n",
        "Alpha = 0.05\n",
        "Wire_eff = 0.98\n",
        "\n",
        "SOCmax = Battery_SOCmax\n",
        "SOCmin = SOCmax * (1 - DOD)\n",
        "\n",
        "\n",
        "P_Ratio = (PV_Wp * (G / 1000)) / Inv_RP\n",
        "Inv_eff = 97.644 - (P_Ratio * 1.995) - (0.445 / P_Ratio.replace(0, np.nan))\n",
        "Inv_eff = Inv_eff.fillna(0)\n",
        "\n",
        "\n",
        "E_PV = ((PV_Wp * (G / 1000)) - (Alpha * (T - 25))) * Wire_eff * Inv_eff\n",
        "\n",
        "\n",
        "E_net = E_PV - L\n",
        "\n",
        "\n",
        "SOCi = SOCmax\n",
        "SOCf = []\n",
        "Deff = []\n",
        "Dampf = []\n",
        "\n",
        "\n",
        "for ED in E_net:\n",
        "    SOC = ED + SOCi\n",
        "\n",
        "    if SOC > SOCmax:\n",
        "        Dampi = SOC - SOCmax\n",
        "        Defi = 0\n",
        "        SOCi = SOCmax\n",
        "\n",
        "    elif SOC < SOCmin:\n",
        "        SOCi = SOCmin\n",
        "        Defi = SOC - SOCmin\n",
        "        Dampi = 0\n",
        "\n",
        "    else:\n",
        "        Defi = 0\n",
        "        Dampi = 0\n",
        "        SOCi = SOC\n",
        "\n",
        "    SOCf.append(SOCi)\n",
        "    Deff.append(Defi)\n",
        "    Dampf.append(Dampi)\n",
        "\n",
        "\n",
        "SOCf = np.array(SOCf)\n",
        "Deff = np.array(Deff)\n",
        "Dampf = np.array(Dampf)\n",
        "SOC_per = SOCf / SOCmax\n",
        "LLP_calculated = abs(np.sum(Deff)) / np.sum(L)\n",
        "\n",
        "\n",
        "print(\"Loss of Load Probability (LLP):\", LLP_calculated)"
      ],
      "metadata": {
        "colab": {
          "base_uri": "https://localhost:8080/"
        },
        "id": "oGIb_RmToYXq",
        "outputId": "5c4f348f-fd16-42af-e34b-6be92eca620a"
      },
      "execution_count": 9,
      "outputs": [
        {
          "output_type": "stream",
          "name": "stdout",
          "text": [
            "Loss of Load Probability (LLP): 0.0\n"
          ]
        }
      ]
    }
  ]
}
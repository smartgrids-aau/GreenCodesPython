{
  "nbformat": 4,
  "nbformat_minor": 0,
  "metadata": {
    "colab": {
      "provenance": [],
      "authorship_tag": "ABX9TyN9Qdh7Oa4TF8XaJg+gLeNG",
      "include_colab_link": true
    },
    "kernelspec": {
      "name": "python3",
      "display_name": "Python 3"
    },
    "language_info": {
      "name": "python"
    }
  },
  "cells": [
    {
      "cell_type": "markdown",
      "metadata": {
        "id": "view-in-github",
        "colab_type": "text"
      },
      "source": [
        "<a href=\"https://colab.research.google.com/github/smartgrids-aau/GreenCodesPython/blob/main/Exemple_3_2.ipynb\" target=\"_parent\"><img src=\"https://colab.research.google.com/assets/colab-badge.svg\" alt=\"Open In Colab\"/></a>"
      ]
    },
    {
      "cell_type": "code",
      "source": [
        "# Example 3.2\n",
        "import numpy as np\n",
        "from scipy.interpolate import PchipInterpolator\n",
        "\n",
        "# Define constants\n",
        "TaC = 25          # Temperature (°C)\n",
        "C = 0.5           # Step size\n",
        "E = 0.5           # Maximum dI/dV error\n",
        "\n",
        "# Define variables with initial conditions\n",
        "Suns_initial = 0.045\n",
        "Va = 31\n",
        "\n",
        "# Placeholder for KYOCERA function (needs to be defined based on physical model)\n",
        "def KYOCERA(Va, Suns, TaC):\n",
        "    # Dummy implementation — replace with actual model\n",
        "    return Suns * (0.02 * Va + 0.5)\n",
        "\n",
        "Ia = KYOCERA(Va, Suns_initial, TaC)\n",
        "Pa = Va * Ia\n",
        "Vref_new = Va + C\n",
        "\n",
        "Va_array = []\n",
        "Pa_array = []\n",
        "Pmax_array = []\n",
        "\n",
        "Suns_matrix = np.array([\n",
        "    [0, 0.1], [1, 0.2], [2, 0.3], [3, 0.3], [4, 0.5], [5, 0.6], [6, 0.7],\n",
        "    [7, 0.8], [8, 0.9], [9, 1.0], [10, 1.1], [11, 1.2], [12, 1.3], [13, 1.4]\n",
        "])\n",
        "\n",
        "x = Suns_matrix[:, 0]  # Time data\n",
        "y = Suns_matrix[:, 1]  # Solar radiation data\n",
        "\n",
        "xi = np.arange(1, 201)  # Interpolation points\n",
        "interp = PchipInterpolator(x, y)\n",
        "yi = interp(xi)         # Interpolated values\n",
        "\n",
        "for sample in range(14):\n",
        "    # Read radiation data\n",
        "    Suns = yi[sample]\n",
        "\n",
        "    # Take a new measurement\n",
        "    Va_new = Vref_new\n",
        "    Ia_new = KYOCERA(Va, Suns, TaC)\n",
        "\n",
        "    # Calculate the incremental in voltage and current\n",
        "    deltaVa = Va_new - Va\n",
        "    deltaIa = Ia_new - Ia\n",
        "\n",
        "    if deltaVa == 0:\n",
        "        if deltaIa == 0:\n",
        "            Vref_new = Va_new  # No change\n",
        "        elif deltaIa > 0:\n",
        "            Vref_new = Va_new + C\n",
        "        else:\n",
        "            Vref_new = Va_new - C\n",
        "    else:\n",
        "        if abs(deltaIa / deltaVa + Ia_new / Va_new) <= E:\n",
        "            Vref_new = Va_new  # No change\n",
        "        else:\n",
        "            if deltaIa / deltaVa > -Ia_new / Va_new + E:\n",
        "                Vref_new = Va_new + C\n",
        "            else:\n",
        "                Vref_new = Va_new - C\n",
        "\n",
        "    # Update variables\n",
        "    Va = Va_new\n",
        "    Ia = Ia_new\n",
        "    Pa = Va * Ia\n",
        "\n",
        "    Va_array.append(Va)\n",
        "    Pa_array.append(Pa)\n"
      ],
      "metadata": {
        "id": "qVR6UnuVsdu5"
      },
      "execution_count": 12,
      "outputs": []
    }
  ]
}
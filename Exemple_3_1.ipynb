{
  "nbformat": 4,
  "nbformat_minor": 0,
  "metadata": {
    "colab": {
      "provenance": [],
      "authorship_tag": "ABX9TyMc+TvDpyy/ZXfMZIttkh69",
      "include_colab_link": true
    },
    "kernelspec": {
      "name": "python3",
      "display_name": "Python 3"
    },
    "language_info": {
      "name": "python"
    }
  },
  "cells": [
    {
      "cell_type": "markdown",
      "metadata": {
        "id": "view-in-github",
        "colab_type": "text"
      },
      "source": [
        "<a href=\"https://colab.research.google.com/github/smartgrids-aau/GreenCodesPython/blob/main/Exemple_3_1.ipynb\" target=\"_parent\"><img src=\"https://colab.research.google.com/assets/colab-badge.svg\" alt=\"Open In Colab\"/></a>"
      ]
    },
    {
      "cell_type": "code",
      "source": [
        "# Example 3.1\n",
        "import numpy as np\n",
        "import matplotlib.pyplot as plt\n",
        "from scipy.interpolate import interp1d\n",
        "\n",
        "\n",
        "def PV_model(Va, Suns, TaC):\n",
        "\n",
        "    Isc = 5\n",
        "    Voc = 36\n",
        "    T_ref = 25\n",
        "    Ki = 0.005\n",
        "    Iph = Suns * (Isc + Ki * (TaC - T_ref))\n",
        "    Io = 1e-10\n",
        "    n = 1.3\n",
        "    Vt = 0.026\n",
        "    return Iph - Io * (np.exp(Va / (n * Vt)) - 1)\n",
        "\n",
        "\n",
        "TaC = 25            # Cell temperature (°C)\n",
        "C = 0.5             # Step size\n",
        "Suns_val = 0.028    # (1 G = 1000 W/m^2)\n",
        "Va = 31             # PV voltage\n",
        "\n",
        "Ia = PV_model(Va, Suns_val, TaC)\n",
        "Pa = Ia * Va        # PV output power\n",
        "Vref_new = Va + C   # New reference voltage\n",
        "\n",
        "Va_array = []\n",
        "Pa_array = []\n",
        "\n",
        "Suns_data = np.array([\n",
        "    [0, 0.1], [1, 0.2], [2, 0.3], [3, 0.3], [4, 0.5],\n",
        "    [5, 0.6], [6, 0.7], [7, 0.8], [8, 0.9], [9, 1.0],\n",
        "    [10, 1.1], [11, 1.2], [12, 1.3], [13, 1.4]\n",
        "])\n",
        "\n",
        "x = Suns_data[:, 0]\n",
        "y = Suns_data[:, 1]\n",
        "xi = np.arange(1, 201)\n",
        "interp_func = interp1d(x, y, kind='cubic', fill_value='extrapolate')\n",
        "yi = interp_func(xi)\n",
        "\n",
        "for i in range(14):\n",
        "    Suns = yi[i]\n",
        "    Va_new = Vref_new\n",
        "    Ia_new = PV_model(Va, Suns, TaC)\n",
        "    Pa_new = Va_new * Ia_new\n",
        "    deltaPa = Pa_new - Pa\n",
        "\n",
        "    if deltaPa > 0:\n",
        "        if Va_new > Va:\n",
        "            Vref_new = Va_new + C\n",
        "        else:\n",
        "            Vref_new = Va_new - C\n",
        "    elif deltaPa < 0:\n",
        "        if Va_new > Va:\n",
        "            Vref_new = Va_new - C\n",
        "        else:\n",
        "            Vref_new = Va_new + C\n",
        "    else:\n",
        "        V_ref = Va_new\n",
        "\n",
        "    Va = Va_new\n",
        "    Pa = Pa_new\n",
        "\n",
        "    Va_array.append(Va)\n",
        "    Pa_array.append(Pa)\n"
      ],
      "metadata": {
        "colab": {
          "base_uri": "https://localhost:8080/"
        },
        "id": "qVR6UnuVsdu5",
        "outputId": "6476ccb4-219c-4015-dec8-43db3b1f667a"
      },
      "execution_count": 6,
      "outputs": [
        {
          "output_type": "stream",
          "name": "stderr",
          "text": [
            "/tmp/ipython-input-6-1856769395.py:17: RuntimeWarning: overflow encountered in exp\n",
            "  return Iph - Io * (np.exp(Va / (n * Vt)) - 1)\n",
            "/tmp/ipython-input-6-1856769395.py:49: RuntimeWarning: invalid value encountered in scalar subtract\n",
            "  deltaPa = Pa_new - Pa\n"
          ]
        }
      ]
    }
  ]
}